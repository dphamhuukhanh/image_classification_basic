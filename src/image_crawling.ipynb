{
 "cells": [
  {
   "cell_type": "code",
   "execution_count": 30,
   "source": [
    "from selenium import webdriver\r\n",
    "from time import sleep\r\n",
    "from selenium.webdriver.common.keys import Keys\r\n",
    "import os"
   ],
   "outputs": [],
   "metadata": {}
  },
  {
   "cell_type": "code",
   "execution_count": 31,
   "source": [
    "# dismiss driver alert\r\n",
    "chrome_options = webdriver.ChromeOptions()\r\n",
    "prefs = {\"profile.default_content_setting_values.notifications\" : 2}\r\n",
    "chrome_options.add_experimental_option(\"prefs\",prefs)\r\n",
    "\r\n",
    "driver = webdriver.Chrome(executable_path='chromedriver.exe',chrome_options=chrome_options)"
   ],
   "outputs": [
    {
     "output_type": "stream",
     "name": "stderr",
     "text": [
      "d:\\PythonProject\\image_classification_basic\\venv\\lib\\site-packages\\ipykernel_launcher.py:6: DeprecationWarning: use options instead of chrome_options\n",
      "  \n"
     ]
    }
   ],
   "metadata": {}
  },
  {
   "cell_type": "code",
   "execution_count": 32,
   "source": [
    "url = input()\r\n",
    "driver.get(url)"
   ],
   "outputs": [],
   "metadata": {}
  },
  {
   "cell_type": "code",
   "execution_count": 33,
   "source": [
    "# get link\r\n",
    "image_links = driver.find_elements_by_tag_name('img')\r\n",
    "image_links = [image_link.get_attribute('src') for image_link in image_links]\r\n",
    "image_links = [image_link for image_link in image_links if str(image_link).startswith('https://th.bing.com')]\r\n",
    "print(image_links)  "
   ],
   "outputs": [
    {
     "output_type": "stream",
     "name": "stdout",
     "text": [
      "['https://th.bing.com/th?q=Panda+Art&w=42&h=42&c=7&rs=1&p=0&o=5&dpr=1.25&pid=1.7&mkt=en-WW&adlt=moderate', 'https://th.bing.com/th?q=Panda+Tattoo&w=42&h=42&c=7&rs=1&p=0&o=5&dpr=1.25&pid=1.7&mkt=en-WW&adlt=moderate', 'https://th.bing.com/th?q=Kawaii+Panda&w=42&h=42&c=7&rs=1&p=0&o=5&dpr=1.25&pid=1.7&mkt=en-WW&adlt=moderate', 'https://th.bing.com/th?q=Panda+Paw&w=42&h=42&c=7&rs=1&p=0&o=5&dpr=1.25&pid=1.7&mkt=en-WW&adlt=moderate', 'https://th.bing.com/th?q=Cutest+Panda&w=42&h=42&c=7&rs=1&p=0&o=5&dpr=1.25&pid=1.7&mkt=en-WW&adlt=moderate', 'https://th.bing.com/th?q=Cute+Panda&w=42&h=42&c=7&rs=1&p=0&o=5&dpr=1.25&pid=1.7&mkt=en-WW&adlt=moderate', 'https://th.bing.com/th?q=Panda+Love&w=42&h=42&c=7&rs=1&p=0&o=5&dpr=1.25&pid=1.7&mkt=en-WW&adlt=moderate', 'https://th.bing.com/th?q=Panda+Bear+Eyes&w=42&h=42&c=7&rs=1&p=0&o=5&dpr=1.25&pid=1.7&mkt=en-WW&adlt=moderate', 'https://th.bing.com/th?q=Red+Panda+Bear&w=42&h=42&c=7&rs=1&p=0&o=5&dpr=1.25&pid=1.7&mkt=en-WW&adlt=moderate', 'https://th.bing.com/th/id/OIP.7U7fOKjbIeAtDf_bYlZN9QHaFh?w=258&h=192&c=7&r=0&o=5&dpr=1.25&pid=1.7', 'https://th.bing.com/th/id/OIP.H29NJotmAJj84y_oLcRuNgHaEo?w=308&h=192&c=7&r=0&o=5&dpr=1.25&pid=1.7', 'https://th.bing.com/th/id/OIP.IdHklXF7GZB5hJHd-GrLawHaFk?w=255&h=191&c=7&r=0&o=5&dpr=1.25&pid=1.7', 'https://th.bing.com/th/id/OIP.0sR5iA3GUpFCyhXuSimX4QHaE0?w=294&h=191&c=7&r=0&o=5&dpr=1.25&pid=1.7', 'https://th.bing.com/th/id/OIP.ehy4wx7PMq1ziJib-CbbyQHaE9?w=286&h=191&c=7&r=0&o=5&dpr=1.25&pid=1.7', 'https://th.bing.com/th/id/OIP.skcCo_DZSJUQHyxD8I1fwQHaE8?w=286&h=191&c=7&r=0&o=5&dpr=1.25&pid=1.7', 'https://th.bing.com/th/id/OIP.ceAoQlrNiYf9_--WT6ChLwHaE8?w=262&h=180&c=7&r=0&o=5&dpr=1.25&pid=1.7', 'https://th.bing.com/th/id/OIP.8wvYY3dXESmeVx6QGNfzSgHaE8?w=262&h=180&c=7&r=0&o=5&dpr=1.25&pid=1.7', 'https://th.bing.com/th/id/OIP.ATX90M8AhbHOn89ATRiq_wHaD4?w=333&h=180&c=7&r=0&o=5&dpr=1.25&pid=1.7', 'https://th.bing.com/th/id/OIP.rrRC8QG-o_z4NcYuOMZ8BwHaE7?w=264&h=180&c=7&r=0&o=5&dpr=1.25&pid=1.7', 'https://th.bing.com/th/id/OIP.XGvI8gtajGcaEsDvGKG-DwHaDv?w=287&h=176&c=7&r=0&o=5&dpr=1.25&pid=1.7', 'https://th.bing.com/th/id/OIP.NBpWGRlqQ5hbhEqH1nf5JAHaE8?w=220&h=180&c=7&r=0&o=5&dpr=1.25&pid=1.7', 'https://th.bing.com/th/id/OIP.iyeMd-oml451tb1aBqWFFAHaE8?w=220&h=180&c=7&r=0&o=5&dpr=1.25&pid=1.7', 'https://th.bing.com/th/id/OIP.QvwNkcSkz2mmj6DKqGFDxAHaNK?w=115&h=180&c=7&r=0&o=5&dpr=1.25&pid=1.7', 'https://th.bing.com/th/id/OIP.MFb-74YTEUK6bit5nXdx1QHaEF?w=267&h=180&c=7&r=0&o=5&dpr=1.25&pid=1.7', 'https://th.bing.com/th/id/OIP.KRjO43uumNeBSfMShQNqWwHaE8?w=291&h=194&c=7&r=0&o=5&dpr=1.25&pid=1.7', 'https://th.bing.com/th/id/OIP.Izk-Zy7EbaqkYDU_7G79vAHaE8?w=291&h=194&c=7&r=0&o=5&dpr=1.25&pid=1.7', 'https://th.bing.com/th/id/OIP.4AZB9-f69sxMzIQO7zTDZQHaFj?w=259&h=194&c=7&r=0&o=5&dpr=1.25&pid=1.7', 'https://th.bing.com/th/id/OIP.76dI9LL6RgsP6YcnGt98SgHaFJ?w=280&h=194&c=7&r=0&o=5&dpr=1.25&pid=1.7', 'https://th.bing.com/th/id/OIP.AAWzQgPqvjzortZE1BjXyAHaLH?w=115&h=180&c=7&r=0&o=5&dpr=1.25&pid=1.7', 'https://th.bing.com/th/id/OIP.9949PtdMoixYeo57BwjVLgHaE8?w=257&h=180&c=7&r=0&o=5&dpr=1.25&pid=1.7', 'https://th.bing.com/th/id/OIP.U08rNW8Nn6ckb1FK92gcFQHaD1?w=330&h=180&c=7&r=0&o=5&dpr=1.25&pid=1.7', 'https://th.bing.com/th/id/OIP.SH_B9542cXH1IHcW984lmQHaIY?w=151&h=180&c=7&r=0&o=5&dpr=1.25&pid=1.7', 'https://th.bing.com/th/id/OIP.bQHwSzFNRshgsQt3bi681gHaE8?w=256&h=180&c=7&r=0&o=5&dpr=1.25&pid=1.7', 'https://th.bing.com/th/id/OIP.rC3CNSjsCvYx0ALHUhblKQHaFW?w=258&h=186&c=7&r=0&o=5&dpr=1.25&pid=1.7']\n"
     ]
    }
   ],
   "metadata": {}
  },
  {
   "cell_type": "code",
   "execution_count": 34,
   "source": [
    "import wget\r\n",
    "path = os.getcwd()\r\n",
    "path1 = os.path.join(path, 'pyimagsearch/datasets/animals/')\r\n",
    "#path2 = os.path.join(path, 'pyimagsearch/datasets/cat/')\r\n",
    "\r\n",
    "count = 0\r\n",
    "for image_link in image_links:\r\n",
    "    driver.get(image_link)\r\n",
    "    file_name = os.path.join(path1, 'panda'+ str(count) + \".jpg\")\r\n",
    "    wget.download(image_link, file_name)\r\n",
    "    count += 1\r\n",
    "    "
   ],
   "outputs": [],
   "metadata": {}
  },
  {
   "cell_type": "code",
   "execution_count": 35,
   "source": [
    "driver.close()"
   ],
   "outputs": [],
   "metadata": {}
  }
 ],
 "metadata": {
  "orig_nbformat": 4,
  "language_info": {
   "name": "python",
   "version": "3.6.5",
   "mimetype": "text/x-python",
   "codemirror_mode": {
    "name": "ipython",
    "version": 3
   },
   "pygments_lexer": "ipython3",
   "nbconvert_exporter": "python",
   "file_extension": ".py"
  },
  "kernelspec": {
   "name": "python3",
   "display_name": "Python 3.6.5 64-bit ('venv': venv)"
  },
  "interpreter": {
   "hash": "b6e2a673dc9eea2db450eb441999d3a33beb5e27a8cb7bc637a9944b1d1d84ea"
  }
 },
 "nbformat": 4,
 "nbformat_minor": 2
}